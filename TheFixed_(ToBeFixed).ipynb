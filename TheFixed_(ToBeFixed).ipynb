{
 "cells": [
  {
   "cell_type": "code",
   "execution_count": 190,
   "metadata": {},
   "outputs": [],
   "source": [
    "import pandas as pd\n",
    "import numpy as np\n",
    "from sklearn.tree import export_graphviz\n",
    "import pydot\n",
    "from sklearn.ensemble import RandomForestClassifier\n",
    "import matplotlib.pyplot as plt\n",
    "%matplotlib inline\n",
    "from sklearn import model_selection, metrics\n",
    "from sklearn.model_selection import train_test_split\n",
    "from sklearn.model_selection import cross_val_score\n",
    "from sklearn.model_selection import validation_curve\n",
    "from sklearn.metrics import classification_report, confusion_matrix\n",
    "from sklearn.model_selection import RandomizedSearchCV\n",
    "\n",
    "from sklearn.feature_extraction.text import CountVectorizer\n",
    "from sklearn.naive_bayes import MultinomialNB"
   ]
  },
  {
   "cell_type": "code",
   "execution_count": 191,
   "metadata": {},
   "outputs": [],
   "source": [
    "b = pd.read_csv(\"2_KS_train_w_vader.csv\")"
   ]
  },
  {
   "cell_type": "code",
   "execution_count": 192,
   "metadata": {},
   "outputs": [],
   "source": [
    "df = pd.read_csv(\"KS_train_final.csv\")"
   ]
  },
  {
   "cell_type": "code",
   "execution_count": 193,
   "metadata": {},
   "outputs": [],
   "source": [
    "df['blurb'] = b['blurb']"
   ]
  },
  {
   "cell_type": "code",
   "execution_count": 194,
   "metadata": {},
   "outputs": [],
   "source": [
    "df['blurb'].fillna(\" \", inplace=True)"
   ]
  },
  {
   "cell_type": "code",
   "execution_count": 195,
   "metadata": {},
   "outputs": [],
   "source": [
    "for index, value in df['blurb'].items():\n",
    "    s = \"\".join([ c if c.isalpha() else \" \" for c in value ])\n",
    "    s = s.lower()\n",
    "    \n",
    "    df.at[index, 'clean_blurb'] = s"
   ]
  },
  {
   "cell_type": "code",
   "execution_count": 196,
   "metadata": {},
   "outputs": [],
   "source": [
    "df = df.drop(['blurb'], axis=1)"
   ]
  },
  {
   "cell_type": "code",
   "execution_count": 197,
   "metadata": {},
   "outputs": [
    {
     "data": {
      "text/html": [
       "<div>\n",
       "<style scoped>\n",
       "    .dataframe tbody tr th:only-of-type {\n",
       "        vertical-align: middle;\n",
       "    }\n",
       "\n",
       "    .dataframe tbody tr th {\n",
       "        vertical-align: top;\n",
       "    }\n",
       "\n",
       "    .dataframe thead th {\n",
       "        text-align: right;\n",
       "    }\n",
       "</style>\n",
       "<table border=\"1\" class=\"dataframe\">\n",
       "  <thead>\n",
       "    <tr style=\"text-align: right;\">\n",
       "      <th></th>\n",
       "      <th>staff_pick</th>\n",
       "      <th>funded</th>\n",
       "      <th>is_cat_art</th>\n",
       "      <th>is_cat_music</th>\n",
       "      <th>is_cat_film</th>\n",
       "      <th>is_cat_technology</th>\n",
       "      <th>is_cat_publishing</th>\n",
       "      <th>is_cat_food</th>\n",
       "      <th>is_cat_games</th>\n",
       "      <th>is_cat_fashion</th>\n",
       "      <th>...</th>\n",
       "      <th>is_2017</th>\n",
       "      <th>is_2018</th>\n",
       "      <th>sentiment_pos</th>\n",
       "      <th>sentiment_neu</th>\n",
       "      <th>sentiment_neg</th>\n",
       "      <th>blurb_bayes</th>\n",
       "      <th>log_goal_usd</th>\n",
       "      <th>log_days_to_launch</th>\n",
       "      <th>log_days_to_dealine</th>\n",
       "      <th>clean_blurb</th>\n",
       "    </tr>\n",
       "  </thead>\n",
       "  <tbody>\n",
       "    <tr>\n",
       "      <th>0</th>\n",
       "      <td>0.0</td>\n",
       "      <td>1.0</td>\n",
       "      <td>1.0</td>\n",
       "      <td>0.0</td>\n",
       "      <td>0.0</td>\n",
       "      <td>0.0</td>\n",
       "      <td>0.0</td>\n",
       "      <td>0.0</td>\n",
       "      <td>0.0</td>\n",
       "      <td>0.0</td>\n",
       "      <td>...</td>\n",
       "      <td>0.0</td>\n",
       "      <td>0.0</td>\n",
       "      <td>0.0</td>\n",
       "      <td>1.0</td>\n",
       "      <td>0.0</td>\n",
       "      <td>0.770405</td>\n",
       "      <td>0.536852</td>\n",
       "      <td>0.571877</td>\n",
       "      <td>0.636119</td>\n",
       "      <td>i will be an artist in residence at elsewhere ...</td>\n",
       "    </tr>\n",
       "    <tr>\n",
       "      <th>1</th>\n",
       "      <td>0.0</td>\n",
       "      <td>1.0</td>\n",
       "      <td>1.0</td>\n",
       "      <td>0.0</td>\n",
       "      <td>0.0</td>\n",
       "      <td>0.0</td>\n",
       "      <td>0.0</td>\n",
       "      <td>0.0</td>\n",
       "      <td>0.0</td>\n",
       "      <td>0.0</td>\n",
       "      <td>...</td>\n",
       "      <td>0.0</td>\n",
       "      <td>0.0</td>\n",
       "      <td>0.0</td>\n",
       "      <td>1.0</td>\n",
       "      <td>0.0</td>\n",
       "      <td>0.913929</td>\n",
       "      <td>0.557160</td>\n",
       "      <td>0.417726</td>\n",
       "      <td>0.786681</td>\n",
       "      <td>artists is a public art making installati...</td>\n",
       "    </tr>\n",
       "    <tr>\n",
       "      <th>2</th>\n",
       "      <td>0.0</td>\n",
       "      <td>1.0</td>\n",
       "      <td>1.0</td>\n",
       "      <td>0.0</td>\n",
       "      <td>0.0</td>\n",
       "      <td>0.0</td>\n",
       "      <td>0.0</td>\n",
       "      <td>0.0</td>\n",
       "      <td>0.0</td>\n",
       "      <td>0.0</td>\n",
       "      <td>...</td>\n",
       "      <td>0.0</td>\n",
       "      <td>0.0</td>\n",
       "      <td>1.0</td>\n",
       "      <td>0.0</td>\n",
       "      <td>0.0</td>\n",
       "      <td>0.660800</td>\n",
       "      <td>0.561670</td>\n",
       "      <td>0.269857</td>\n",
       "      <td>0.890160</td>\n",
       "      <td>the sequel to  my favorite machine    myphoneh...</td>\n",
       "    </tr>\n",
       "    <tr>\n",
       "      <th>3</th>\n",
       "      <td>0.0</td>\n",
       "      <td>1.0</td>\n",
       "      <td>1.0</td>\n",
       "      <td>0.0</td>\n",
       "      <td>0.0</td>\n",
       "      <td>0.0</td>\n",
       "      <td>0.0</td>\n",
       "      <td>0.0</td>\n",
       "      <td>0.0</td>\n",
       "      <td>0.0</td>\n",
       "      <td>...</td>\n",
       "      <td>0.0</td>\n",
       "      <td>0.0</td>\n",
       "      <td>1.0</td>\n",
       "      <td>0.0</td>\n",
       "      <td>0.0</td>\n",
       "      <td>0.993950</td>\n",
       "      <td>0.572900</td>\n",
       "      <td>0.285142</td>\n",
       "      <td>0.624541</td>\n",
       "      <td>a film exploring the role and value of art edu...</td>\n",
       "    </tr>\n",
       "    <tr>\n",
       "      <th>4</th>\n",
       "      <td>0.0</td>\n",
       "      <td>1.0</td>\n",
       "      <td>1.0</td>\n",
       "      <td>0.0</td>\n",
       "      <td>0.0</td>\n",
       "      <td>0.0</td>\n",
       "      <td>0.0</td>\n",
       "      <td>0.0</td>\n",
       "      <td>0.0</td>\n",
       "      <td>0.0</td>\n",
       "      <td>...</td>\n",
       "      <td>0.0</td>\n",
       "      <td>0.0</td>\n",
       "      <td>0.0</td>\n",
       "      <td>1.0</td>\n",
       "      <td>0.0</td>\n",
       "      <td>0.623790</td>\n",
       "      <td>0.608693</td>\n",
       "      <td>0.515240</td>\n",
       "      <td>0.713862</td>\n",
       "      <td>we need to build a kitchen for habitable space...</td>\n",
       "    </tr>\n",
       "  </tbody>\n",
       "</table>\n",
       "<p>5 rows × 41 columns</p>\n",
       "</div>"
      ],
      "text/plain": [
       "   staff_pick  funded  is_cat_art  is_cat_music  is_cat_film  \\\n",
       "0         0.0     1.0         1.0           0.0          0.0   \n",
       "1         0.0     1.0         1.0           0.0          0.0   \n",
       "2         0.0     1.0         1.0           0.0          0.0   \n",
       "3         0.0     1.0         1.0           0.0          0.0   \n",
       "4         0.0     1.0         1.0           0.0          0.0   \n",
       "\n",
       "   is_cat_technology  is_cat_publishing  is_cat_food  is_cat_games  \\\n",
       "0                0.0                0.0          0.0           0.0   \n",
       "1                0.0                0.0          0.0           0.0   \n",
       "2                0.0                0.0          0.0           0.0   \n",
       "3                0.0                0.0          0.0           0.0   \n",
       "4                0.0                0.0          0.0           0.0   \n",
       "\n",
       "   is_cat_fashion  ...  is_2017  is_2018  sentiment_pos  sentiment_neu  \\\n",
       "0             0.0  ...      0.0      0.0            0.0            1.0   \n",
       "1             0.0  ...      0.0      0.0            0.0            1.0   \n",
       "2             0.0  ...      0.0      0.0            1.0            0.0   \n",
       "3             0.0  ...      0.0      0.0            1.0            0.0   \n",
       "4             0.0  ...      0.0      0.0            0.0            1.0   \n",
       "\n",
       "   sentiment_neg  blurb_bayes  log_goal_usd  log_days_to_launch  \\\n",
       "0            0.0     0.770405      0.536852            0.571877   \n",
       "1            0.0     0.913929      0.557160            0.417726   \n",
       "2            0.0     0.660800      0.561670            0.269857   \n",
       "3            0.0     0.993950      0.572900            0.285142   \n",
       "4            0.0     0.623790      0.608693            0.515240   \n",
       "\n",
       "   log_days_to_dealine                                        clean_blurb  \n",
       "0             0.636119  i will be an artist in residence at elsewhere ...  \n",
       "1             0.786681       artists is a public art making installati...  \n",
       "2             0.890160  the sequel to  my favorite machine    myphoneh...  \n",
       "3             0.624541  a film exploring the role and value of art edu...  \n",
       "4             0.713862  we need to build a kitchen for habitable space...  \n",
       "\n",
       "[5 rows x 41 columns]"
      ]
     },
     "execution_count": 197,
     "metadata": {},
     "output_type": "execute_result"
    }
   ],
   "source": [
    "df.head(5)"
   ]
  },
  {
   "cell_type": "code",
   "execution_count": 198,
   "metadata": {},
   "outputs": [],
   "source": [
    "X = df.drop(['funded', 'is_cat_music', 'is_cat_film', 'is_cat_publishing', 'is_cat_games', 'is_cat_fashion',\n",
    "            'is_cat_comics', 'is_cat_other', 'is_country_us', 'is_loc_ca', 'is_loc_ny', 'is_loc_uk',\n",
    "            'is_loc_tx', 'is_loc_cd', 'is_loc_fl', 'is_loc_il', 'is_loc_wa', 'is_loc_pa',\n",
    "            'is_loc_other', 'is_2009', 'is_2017', 'is_2018', 'blurb_bayes', 'sentiment_pos', 'sentiment_neu',\n",
    "            'sentiment_neg'], axis=1)"
   ]
  },
  {
   "cell_type": "code",
   "execution_count": 199,
   "metadata": {},
   "outputs": [],
   "source": [
    "y = df['funded']"
   ]
  },
  {
   "cell_type": "code",
   "execution_count": 200,
   "metadata": {},
   "outputs": [],
   "source": [
    "X_train, X_test, y_train, y_test = train_test_split(X, y, test_size=0.25, random_state=42)"
   ]
  },
  {
   "cell_type": "code",
   "execution_count": 201,
   "metadata": {},
   "outputs": [],
   "source": [
    "X_NB_train = X_train.clean_blurb"
   ]
  },
  {
   "cell_type": "code",
   "execution_count": 202,
   "metadata": {},
   "outputs": [],
   "source": [
    "vectorizer = CountVectorizer()\n",
    "counts = vectorizer.fit_transform(X_NB_train.values)"
   ]
  },
  {
   "cell_type": "code",
   "execution_count": 203,
   "metadata": {},
   "outputs": [
    {
     "data": {
      "text/plain": [
       "MultinomialNB(alpha=1, class_prior=None, fit_prior=True)"
      ]
     },
     "execution_count": 203,
     "metadata": {},
     "output_type": "execute_result"
    }
   ],
   "source": [
    "classifier = MultinomialNB(alpha=1)\n",
    "targets = y_train.values\n",
    "classifier.fit(counts, targets)"
   ]
  },
  {
   "cell_type": "code",
   "execution_count": 204,
   "metadata": {},
   "outputs": [],
   "source": [
    "predictions = classifier.predict_proba(counts)\n",
    "# i = 0\n",
    "\n",
    "# for row in predictions:\n",
    "#     X_train.loc[i, 'blurb_bayes'] = row[1]\n",
    "#     i+=1"
   ]
  },
  {
   "cell_type": "code",
   "execution_count": 205,
   "metadata": {},
   "outputs": [
    {
     "name": "stderr",
     "output_type": "stream",
     "text": [
      "c:\\users\\ajay mota\\pycharmprojects\\bit\\venv\\lib\\site-packages\\ipykernel_launcher.py:1: SettingWithCopyWarning: \n",
      "A value is trying to be set on a copy of a slice from a DataFrame.\n",
      "Try using .loc[row_indexer,col_indexer] = value instead\n",
      "\n",
      "See the caveats in the documentation: http://pandas.pydata.org/pandas-docs/stable/indexing.html#indexing-view-versus-copy\n",
      "  \"\"\"Entry point for launching an IPython kernel.\n"
     ]
    }
   ],
   "source": [
    "X_train['blurb_bayes'] = predictions.T[1]"
   ]
  },
  {
   "cell_type": "code",
   "execution_count": 206,
   "metadata": {},
   "outputs": [],
   "source": [
    "X_train = X_train.drop(['clean_blurb'], axis=1)"
   ]
  },
  {
   "cell_type": "code",
   "execution_count": 207,
   "metadata": {},
   "outputs": [
    {
     "data": {
      "text/html": [
       "<div>\n",
       "<style scoped>\n",
       "    .dataframe tbody tr th:only-of-type {\n",
       "        vertical-align: middle;\n",
       "    }\n",
       "\n",
       "    .dataframe tbody tr th {\n",
       "        vertical-align: top;\n",
       "    }\n",
       "\n",
       "    .dataframe thead th {\n",
       "        text-align: right;\n",
       "    }\n",
       "</style>\n",
       "<table border=\"1\" class=\"dataframe\">\n",
       "  <thead>\n",
       "    <tr style=\"text-align: right;\">\n",
       "      <th></th>\n",
       "      <th>staff_pick</th>\n",
       "      <th>is_cat_art</th>\n",
       "      <th>is_cat_technology</th>\n",
       "      <th>is_cat_food</th>\n",
       "      <th>is_2010</th>\n",
       "      <th>is_2011</th>\n",
       "      <th>is_2012</th>\n",
       "      <th>is_2013</th>\n",
       "      <th>is_2014</th>\n",
       "      <th>is_2015</th>\n",
       "      <th>is_2016</th>\n",
       "      <th>log_goal_usd</th>\n",
       "      <th>log_days_to_launch</th>\n",
       "      <th>log_days_to_dealine</th>\n",
       "      <th>blurb_bayes</th>\n",
       "    </tr>\n",
       "  </thead>\n",
       "  <tbody>\n",
       "    <tr>\n",
       "      <th>2782</th>\n",
       "      <td>0.0</td>\n",
       "      <td>1.0</td>\n",
       "      <td>0.0</td>\n",
       "      <td>0.0</td>\n",
       "      <td>0.0</td>\n",
       "      <td>0.0</td>\n",
       "      <td>0.0</td>\n",
       "      <td>0.0</td>\n",
       "      <td>0.0</td>\n",
       "      <td>0.0</td>\n",
       "      <td>0.0</td>\n",
       "      <td>0.483708</td>\n",
       "      <td>0.232524</td>\n",
       "      <td>0.557388</td>\n",
       "      <td>0.077252</td>\n",
       "    </tr>\n",
       "    <tr>\n",
       "      <th>65081</th>\n",
       "      <td>0.0</td>\n",
       "      <td>0.0</td>\n",
       "      <td>0.0</td>\n",
       "      <td>0.0</td>\n",
       "      <td>0.0</td>\n",
       "      <td>0.0</td>\n",
       "      <td>1.0</td>\n",
       "      <td>0.0</td>\n",
       "      <td>0.0</td>\n",
       "      <td>0.0</td>\n",
       "      <td>0.0</td>\n",
       "      <td>0.561670</td>\n",
       "      <td>0.505056</td>\n",
       "      <td>0.799086</td>\n",
       "      <td>0.990496</td>\n",
       "    </tr>\n",
       "    <tr>\n",
       "      <th>16706</th>\n",
       "      <td>0.0</td>\n",
       "      <td>0.0</td>\n",
       "      <td>0.0</td>\n",
       "      <td>0.0</td>\n",
       "      <td>0.0</td>\n",
       "      <td>0.0</td>\n",
       "      <td>0.0</td>\n",
       "      <td>0.0</td>\n",
       "      <td>0.0</td>\n",
       "      <td>1.0</td>\n",
       "      <td>0.0</td>\n",
       "      <td>0.542600</td>\n",
       "      <td>0.000000</td>\n",
       "      <td>0.657836</td>\n",
       "      <td>0.991201</td>\n",
       "    </tr>\n",
       "    <tr>\n",
       "      <th>33555</th>\n",
       "      <td>0.0</td>\n",
       "      <td>0.0</td>\n",
       "      <td>0.0</td>\n",
       "      <td>0.0</td>\n",
       "      <td>0.0</td>\n",
       "      <td>0.0</td>\n",
       "      <td>0.0</td>\n",
       "      <td>1.0</td>\n",
       "      <td>0.0</td>\n",
       "      <td>0.0</td>\n",
       "      <td>0.0</td>\n",
       "      <td>0.660226</td>\n",
       "      <td>0.208863</td>\n",
       "      <td>0.713862</td>\n",
       "      <td>0.465348</td>\n",
       "    </tr>\n",
       "    <tr>\n",
       "      <th>78185</th>\n",
       "      <td>0.0</td>\n",
       "      <td>0.0</td>\n",
       "      <td>0.0</td>\n",
       "      <td>0.0</td>\n",
       "      <td>0.0</td>\n",
       "      <td>0.0</td>\n",
       "      <td>0.0</td>\n",
       "      <td>0.0</td>\n",
       "      <td>0.0</td>\n",
       "      <td>1.0</td>\n",
       "      <td>0.0</td>\n",
       "      <td>0.561670</td>\n",
       "      <td>0.208863</td>\n",
       "      <td>0.713862</td>\n",
       "      <td>0.401861</td>\n",
       "    </tr>\n",
       "  </tbody>\n",
       "</table>\n",
       "</div>"
      ],
      "text/plain": [
       "       staff_pick  is_cat_art  is_cat_technology  is_cat_food  is_2010  \\\n",
       "2782          0.0         1.0                0.0          0.0      0.0   \n",
       "65081         0.0         0.0                0.0          0.0      0.0   \n",
       "16706         0.0         0.0                0.0          0.0      0.0   \n",
       "33555         0.0         0.0                0.0          0.0      0.0   \n",
       "78185         0.0         0.0                0.0          0.0      0.0   \n",
       "\n",
       "       is_2011  is_2012  is_2013  is_2014  is_2015  is_2016  log_goal_usd  \\\n",
       "2782       0.0      0.0      0.0      0.0      0.0      0.0      0.483708   \n",
       "65081      0.0      1.0      0.0      0.0      0.0      0.0      0.561670   \n",
       "16706      0.0      0.0      0.0      0.0      1.0      0.0      0.542600   \n",
       "33555      0.0      0.0      1.0      0.0      0.0      0.0      0.660226   \n",
       "78185      0.0      0.0      0.0      0.0      1.0      0.0      0.561670   \n",
       "\n",
       "       log_days_to_launch  log_days_to_dealine  blurb_bayes  \n",
       "2782             0.232524             0.557388     0.077252  \n",
       "65081            0.505056             0.799086     0.990496  \n",
       "16706            0.000000             0.657836     0.991201  \n",
       "33555            0.208863             0.713862     0.465348  \n",
       "78185            0.208863             0.713862     0.401861  "
      ]
     },
     "execution_count": 207,
     "metadata": {},
     "output_type": "execute_result"
    }
   ],
   "source": [
    "X_train.head(5)"
   ]
  },
  {
   "cell_type": "code",
   "execution_count": 208,
   "metadata": {},
   "outputs": [
    {
     "data": {
      "text/html": [
       "<div>\n",
       "<style scoped>\n",
       "    .dataframe tbody tr th:only-of-type {\n",
       "        vertical-align: middle;\n",
       "    }\n",
       "\n",
       "    .dataframe tbody tr th {\n",
       "        vertical-align: top;\n",
       "    }\n",
       "\n",
       "    .dataframe thead th {\n",
       "        text-align: right;\n",
       "    }\n",
       "</style>\n",
       "<table border=\"1\" class=\"dataframe\">\n",
       "  <thead>\n",
       "    <tr style=\"text-align: right;\">\n",
       "      <th></th>\n",
       "      <th>staff_pick</th>\n",
       "      <th>funded</th>\n",
       "      <th>is_cat_art</th>\n",
       "      <th>is_cat_music</th>\n",
       "      <th>is_cat_film</th>\n",
       "      <th>is_cat_technology</th>\n",
       "      <th>is_cat_publishing</th>\n",
       "      <th>is_cat_food</th>\n",
       "      <th>is_cat_games</th>\n",
       "      <th>is_cat_fashion</th>\n",
       "      <th>...</th>\n",
       "      <th>is_2016</th>\n",
       "      <th>is_2017</th>\n",
       "      <th>is_2018</th>\n",
       "      <th>sentiment_pos</th>\n",
       "      <th>sentiment_neu</th>\n",
       "      <th>sentiment_neg</th>\n",
       "      <th>blurb_bayes</th>\n",
       "      <th>log_goal_usd</th>\n",
       "      <th>log_days_to_launch</th>\n",
       "      <th>log_days_to_dealine</th>\n",
       "    </tr>\n",
       "  </thead>\n",
       "  <tbody>\n",
       "    <tr>\n",
       "      <th>78185</th>\n",
       "      <td>0.0</td>\n",
       "      <td>0.0</td>\n",
       "      <td>0.0</td>\n",
       "      <td>0.0</td>\n",
       "      <td>0.0</td>\n",
       "      <td>0.0</td>\n",
       "      <td>1.0</td>\n",
       "      <td>0.0</td>\n",
       "      <td>0.0</td>\n",
       "      <td>0.0</td>\n",
       "      <td>...</td>\n",
       "      <td>0.0</td>\n",
       "      <td>0.0</td>\n",
       "      <td>0.0</td>\n",
       "      <td>1.0</td>\n",
       "      <td>0.0</td>\n",
       "      <td>0.0</td>\n",
       "      <td>0.378554</td>\n",
       "      <td>0.56167</td>\n",
       "      <td>0.208863</td>\n",
       "      <td>0.713862</td>\n",
       "    </tr>\n",
       "  </tbody>\n",
       "</table>\n",
       "<p>1 rows × 40 columns</p>\n",
       "</div>"
      ],
      "text/plain": [
       "       staff_pick  funded  is_cat_art  is_cat_music  is_cat_film  \\\n",
       "78185         0.0     0.0         0.0           0.0          0.0   \n",
       "\n",
       "       is_cat_technology  is_cat_publishing  is_cat_food  is_cat_games  \\\n",
       "78185                0.0                1.0          0.0           0.0   \n",
       "\n",
       "       is_cat_fashion  ...  is_2016  is_2017  is_2018  sentiment_pos  \\\n",
       "78185             0.0  ...      0.0      0.0      0.0            1.0   \n",
       "\n",
       "       sentiment_neu  sentiment_neg  blurb_bayes  log_goal_usd  \\\n",
       "78185            0.0            0.0     0.378554       0.56167   \n",
       "\n",
       "       log_days_to_launch  log_days_to_dealine  \n",
       "78185            0.208863             0.713862  \n",
       "\n",
       "[1 rows x 40 columns]"
      ]
     },
     "execution_count": 208,
     "metadata": {},
     "output_type": "execute_result"
    }
   ],
   "source": [
    "pd.read_csv(\"KS_train_final.csv\").iloc[[78185]]"
   ]
  },
  {
   "cell_type": "code",
   "execution_count": 209,
   "metadata": {},
   "outputs": [
    {
     "data": {
      "text/plain": [
       "0"
      ]
     },
     "execution_count": 209,
     "metadata": {},
     "output_type": "execute_result"
    }
   ],
   "source": [
    "X_train['blurb_bayes'].isna().sum() "
   ]
  },
  {
   "cell_type": "code",
   "execution_count": 210,
   "metadata": {},
   "outputs": [
    {
     "data": {
      "text/plain": [
       "RandomForestClassifier(bootstrap=True, class_weight=None, criterion='gini',\n",
       "                       max_depth=10, max_features='sqrt', max_leaf_nodes=None,\n",
       "                       min_impurity_decrease=0.0, min_impurity_split=None,\n",
       "                       min_samples_leaf=1, min_samples_split=2,\n",
       "                       min_weight_fraction_leaf=0.0, n_estimators=10,\n",
       "                       n_jobs=None, oob_score=False, random_state=42, verbose=0,\n",
       "                       warm_start=False)"
      ]
     },
     "execution_count": 210,
     "metadata": {},
     "output_type": "execute_result"
    }
   ],
   "source": [
    "rfc = RandomForestClassifier(n_estimators=10, max_depth=10, max_features='sqrt', random_state = 42)\n",
    "rfc.fit(X_train,y_train)"
   ]
  },
  {
   "cell_type": "code",
   "execution_count": 211,
   "metadata": {},
   "outputs": [],
   "source": [
    "####### NAIVE BAYES on test data #########\n",
    "\n",
    "counts = vectorizer.transform(X_test.clean_blurb.values)\n",
    "predictions = classifier.predict_proba(counts)"
   ]
  },
  {
   "cell_type": "code",
   "execution_count": 212,
   "metadata": {},
   "outputs": [
    {
     "name": "stderr",
     "output_type": "stream",
     "text": [
      "c:\\users\\ajay mota\\pycharmprojects\\bit\\venv\\lib\\site-packages\\ipykernel_launcher.py:1: SettingWithCopyWarning: \n",
      "A value is trying to be set on a copy of a slice from a DataFrame.\n",
      "Try using .loc[row_indexer,col_indexer] = value instead\n",
      "\n",
      "See the caveats in the documentation: http://pandas.pydata.org/pandas-docs/stable/indexing.html#indexing-view-versus-copy\n",
      "  \"\"\"Entry point for launching an IPython kernel.\n"
     ]
    }
   ],
   "source": [
    "X_test['blurb_bayes'] = predictions.T[1]\n",
    "X_test = X_test.drop(['clean_blurb'], axis=1)"
   ]
  },
  {
   "cell_type": "code",
   "execution_count": 218,
   "metadata": {},
   "outputs": [],
   "source": [
    "rfc_predict = rfc.predict(X_test)"
   ]
  },
  {
   "cell_type": "code",
   "execution_count": 219,
   "metadata": {},
   "outputs": [],
   "source": [
    "rfc_cv_score = cross_val_score(rfc, X_test, y_test, cv=10, scoring='roc_auc')"
   ]
  },
  {
   "cell_type": "code",
   "execution_count": 220,
   "metadata": {},
   "outputs": [
    {
     "name": "stdout",
     "output_type": "stream",
     "text": [
      "=== Confusion Matrix ===\n",
      "[[ 6801  3512]\n",
      " [ 2521 11075]]\n",
      "\n",
      "\n",
      "=== Classification Report ===\n",
      "              precision    recall  f1-score   support\n",
      "\n",
      "         0.0       0.73      0.66      0.69     10313\n",
      "         1.0       0.76      0.81      0.79     13596\n",
      "\n",
      "    accuracy                           0.75     23909\n",
      "   macro avg       0.74      0.74      0.74     23909\n",
      "weighted avg       0.75      0.75      0.75     23909\n",
      "\n",
      "\n",
      "\n",
      "=== All AUC Scores ===\n",
      "[0.82712893 0.84056408 0.83440635 0.83951582 0.83882082 0.84076496\n",
      " 0.8401771  0.84430698 0.82696775 0.8343261 ]\n",
      "\n",
      "\n",
      "=== Mean AUC Score ===\n",
      "Mean AUC Score - Random Forest:  0.836697890534675\n"
     ]
    }
   ],
   "source": [
    "print(\"=== Confusion Matrix ===\")\n",
    "print(confusion_matrix(y_test, rfc_predict))\n",
    "print('\\n')\n",
    "print(\"=== Classification Report ===\")\n",
    "print(classification_report(y_test, rfc_predict))\n",
    "print('\\n')\n",
    "print(\"=== All AUC Scores ===\")\n",
    "print(rfc_cv_score)\n",
    "print('\\n')\n",
    "print(\"=== Mean AUC Score ===\")\n",
    "print(\"Mean AUC Score - Random Forest: \", rfc_cv_score.mean())"
   ]
  },
  {
   "cell_type": "code",
   "execution_count": 221,
   "metadata": {},
   "outputs": [],
   "source": [
    "rfc_predict = rfc.predict(X_train)"
   ]
  },
  {
   "cell_type": "code",
   "execution_count": 224,
   "metadata": {},
   "outputs": [],
   "source": [
    "rfc_cv_score = cross_val_score(rfc, X_train, y_train, cv=10, scoring='roc_auc')"
   ]
  },
  {
   "cell_type": "code",
   "execution_count": 225,
   "metadata": {},
   "outputs": [
    {
     "name": "stdout",
     "output_type": "stream",
     "text": [
      "=== Confusion Matrix ===\n",
      "[[23365  7656]\n",
      " [ 5265 35439]]\n",
      "\n",
      "\n",
      "=== Classification Report ===\n",
      "              precision    recall  f1-score   support\n",
      "\n",
      "         0.0       0.82      0.75      0.78     31021\n",
      "         1.0       0.82      0.87      0.85     40704\n",
      "\n",
      "    accuracy                           0.82     71725\n",
      "   macro avg       0.82      0.81      0.81     71725\n",
      "weighted avg       0.82      0.82      0.82     71725\n",
      "\n",
      "\n",
      "\n",
      "=== All AUC Scores ===\n",
      "[0.88626014 0.89076833 0.8938258  0.88776138 0.8943784  0.88630479\n",
      " 0.88782604 0.89266729 0.88828298 0.88708676]\n",
      "\n",
      "\n",
      "=== Mean AUC Score ===\n",
      "Mean AUC Score - Random Forest:  0.8895161892005877\n"
     ]
    }
   ],
   "source": [
    "print(\"=== Confusion Matrix ===\")\n",
    "print(confusion_matrix(y_train, rfc_predict))\n",
    "print('\\n')\n",
    "print(\"=== Classification Report ===\")\n",
    "print(classification_report(y_train, rfc_predict))\n",
    "print('\\n')\n",
    "print(\"=== All AUC Scores ===\")\n",
    "print(rfc_cv_score)\n",
    "print('\\n')\n",
    "print(\"=== Mean AUC Score ===\")\n",
    "print(\"Mean AUC Score - Random Forest: \", rfc_cv_score.mean())"
   ]
  },
  {
   "cell_type": "code",
   "execution_count": null,
   "metadata": {},
   "outputs": [],
   "source": []
  },
  {
   "cell_type": "code",
   "execution_count": null,
   "metadata": {},
   "outputs": [],
   "source": []
  }
 ],
 "metadata": {
  "kernelspec": {
   "display_name": "Python 3",
   "language": "python",
   "name": "python3"
  },
  "language_info": {
   "codemirror_mode": {
    "name": "ipython",
    "version": 3
   },
   "file_extension": ".py",
   "mimetype": "text/x-python",
   "name": "python",
   "nbconvert_exporter": "python",
   "pygments_lexer": "ipython3",
   "version": "3.7.3"
  }
 },
 "nbformat": 4,
 "nbformat_minor": 2
}
