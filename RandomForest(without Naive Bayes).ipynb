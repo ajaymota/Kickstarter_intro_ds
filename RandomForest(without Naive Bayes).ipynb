{
 "cells": [
  {
   "cell_type": "code",
   "execution_count": 12,
   "metadata": {},
   "outputs": [],
   "source": [
    "import pandas as pd\n",
    "import numpy as np\n",
    "from sklearn.tree import export_graphviz\n",
    "import pydot\n",
    "from sklearn.ensemble import RandomForestClassifier\n",
    "import matplotlib.pyplot as plt\n",
    "%matplotlib inline\n",
    "from sklearn import model_selection, metrics\n",
    "from sklearn.model_selection import train_test_split\n",
    "from sklearn.model_selection import cross_val_score\n",
    "from sklearn.model_selection import validation_curve\n",
    "from sklearn.metrics import classification_report, confusion_matrix\n",
    "from sklearn.model_selection import RandomizedSearchCV\n",
    "df = pd.read_csv(\"KS_train_final.csv\")"
   ]
  },
  {
   "cell_type": "code",
   "execution_count": 13,
   "metadata": {},
   "outputs": [],
   "source": [
    "df = df.drop('blurb_bayes', axis = 1)\n",
    "X = df.drop('funded', axis=1)\n",
    "y = df['funded']"
   ]
  },
  {
   "cell_type": "code",
   "execution_count": 14,
   "metadata": {},
   "outputs": [],
   "source": [
    "X_train, X_test, y_train, y_test = train_test_split(X, y, test_size=0.25, random_state=42)\n",
    "rfc = RandomForestClassifier(n_estimators=1000, max_depth=10, max_features='sqrt', random_state = 42)\n",
    "rfc.fit(X_train,y_train)\n",
    "rfc_predict = rfc.predict(X_test)\n",
    "rfc_cv_score = cross_val_score(rfc, X, y, cv=10, scoring='roc_auc')"
   ]
  },
  {
   "cell_type": "code",
   "execution_count": 15,
   "metadata": {},
   "outputs": [
    {
     "name": "stdout",
     "output_type": "stream",
     "text": [
      "=== Confusion Matrix ===\n",
      "[[ 6533  3780]\n",
      " [ 2164 11432]]\n",
      "\n",
      "\n",
      "=== Classification Report ===\n",
      "              precision    recall  f1-score   support\n",
      "\n",
      "         0.0       0.75      0.63      0.69     10313\n",
      "         1.0       0.75      0.84      0.79     13596\n",
      "\n",
      "    accuracy                           0.75     23909\n",
      "   macro avg       0.75      0.74      0.74     23909\n",
      "weighted avg       0.75      0.75      0.75     23909\n",
      "\n",
      "\n",
      "\n",
      "=== All AUC Scores ===\n",
      "[0.67170602 0.82320859 0.77473436 0.83635985 0.93405107 0.76545504\n",
      " 0.74859925 0.76772514 0.77525375 0.78829457]\n",
      "\n",
      "\n",
      "=== Mean AUC Score ===\n",
      "Mean AUC Score - Random Forest:  0.7885387628041547\n"
     ]
    }
   ],
   "source": [
    "print(\"=== Confusion Matrix ===\")\n",
    "print(confusion_matrix(y_test, rfc_predict))\n",
    "print('\\n')\n",
    "print(\"=== Classification Report ===\")\n",
    "print(classification_report(y_test, rfc_predict))\n",
    "print('\\n')\n",
    "print(\"=== All AUC Scores ===\")\n",
    "print(rfc_cv_score)\n",
    "print('\\n')\n",
    "print(\"=== Mean AUC Score ===\")\n",
    "print(\"Mean AUC Score - Random Forest: \", rfc_cv_score.mean())"
   ]
  },
  {
   "cell_type": "code",
   "execution_count": 16,
   "metadata": {},
   "outputs": [
    {
     "data": {
      "text/plain": [
       "0.7513906896984399"
      ]
     },
     "execution_count": 16,
     "metadata": {},
     "output_type": "execute_result"
    }
   ],
   "source": [
    "metrics.accuracy_score(y_test, rfc_predict)"
   ]
  },
  {
   "cell_type": "code",
   "execution_count": 17,
   "metadata": {},
   "outputs": [
    {
     "data": {
      "text/plain": [
       "0.7582572324851865"
      ]
     },
     "execution_count": 17,
     "metadata": {},
     "output_type": "execute_result"
    }
   ],
   "source": [
    "metrics.accuracy_score(y_train, rfc.predict(X_train))"
   ]
  },
  {
   "cell_type": "code",
   "execution_count": 18,
   "metadata": {},
   "outputs": [
    {
     "name": "stdout",
     "output_type": "stream",
     "text": [
      "Variable: staff_pick           Importance: 0.21\n",
      "Variable: log_goal_usd         Importance: 0.2\n",
      "Variable: log_days_to_launch   Importance: 0.08\n",
      "Variable: is_2015              Importance: 0.07\n",
      "Variable: is_2012              Importance: 0.06\n",
      "Variable: is_2011              Importance: 0.05\n",
      "Variable: is_2013              Importance: 0.05\n",
      "Variable: is_2014              Importance: 0.04\n",
      "Variable: log_days_to_dealine  Importance: 0.04\n",
      "Variable: is_cat_technology    Importance: 0.03\n",
      "Variable: is_cat_art           Importance: 0.02\n",
      "Variable: is_cat_food          Importance: 0.02\n",
      "Variable: is_2010              Importance: 0.02\n",
      "Variable: is_cat_music         Importance: 0.01\n",
      "Variable: is_cat_publishing    Importance: 0.01\n",
      "Variable: is_cat_games         Importance: 0.01\n",
      "Variable: is_cat_comics        Importance: 0.01\n",
      "Variable: is_cat_other         Importance: 0.01\n",
      "Variable: is_country_us        Importance: 0.01\n",
      "Variable: is_loc_ny            Importance: 0.01\n",
      "Variable: is_2016              Importance: 0.01\n",
      "Variable: is_2017              Importance: 0.01\n",
      "Variable: is_cat_film          Importance: 0.0\n",
      "Variable: is_cat_fashion       Importance: 0.0\n",
      "Variable: is_loc_ca            Importance: 0.0\n",
      "Variable: is_loc_uk            Importance: 0.0\n",
      "Variable: is_loc_tx            Importance: 0.0\n",
      "Variable: is_loc_cd            Importance: 0.0\n",
      "Variable: is_loc_fl            Importance: 0.0\n",
      "Variable: is_loc_il            Importance: 0.0\n",
      "Variable: is_loc_wa            Importance: 0.0\n",
      "Variable: is_loc_pa            Importance: 0.0\n",
      "Variable: is_loc_other         Importance: 0.0\n",
      "Variable: is_2009              Importance: 0.0\n",
      "Variable: is_2018              Importance: 0.0\n",
      "Variable: sentiment_pos        Importance: 0.0\n",
      "Variable: sentiment_neu        Importance: 0.0\n",
      "Variable: sentiment_neg        Importance: 0.0\n"
     ]
    }
   ],
   "source": [
    "importances = list(rfc.feature_importances_)\n",
    "feature_importances = [(feature, round(importance, 2)) for feature, importance in zip(X.columns, importances)]\n",
    "feature_importances = sorted(feature_importances, key = lambda x: x[1], reverse = True)\n",
    "[print('Variable: {:20} Importance: {}'.format(*pair)) for pair in feature_importances];"
   ]
  }
 ],
 "metadata": {
  "kernelspec": {
   "display_name": "Python 3",
   "language": "python",
   "name": "python3"
  },
  "language_info": {
   "codemirror_mode": {
    "name": "ipython",
    "version": 3
   },
   "file_extension": ".py",
   "mimetype": "text/x-python",
   "name": "python",
   "nbconvert_exporter": "python",
   "pygments_lexer": "ipython3",
   "version": "3.7.3"
  }
 },
 "nbformat": 4,
 "nbformat_minor": 2
}
