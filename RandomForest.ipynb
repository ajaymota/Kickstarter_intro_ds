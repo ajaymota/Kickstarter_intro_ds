{
 "cells": [
  {
   "cell_type": "code",
   "execution_count": 22,
   "metadata": {},
   "outputs": [],
   "source": [
    "import pandas as pd\n",
    "import numpy as np\n",
    "from sklearn.tree import export_graphviz\n",
    "import pydot\n",
    "from sklearn.ensemble import RandomForestClassifier\n",
    "import matplotlib.pyplot as plt\n",
    "%matplotlib inline\n",
    "from sklearn import model_selection, metrics\n",
    "from sklearn.model_selection import train_test_split\n",
    "from sklearn.model_selection import cross_val_score\n",
    "from sklearn.model_selection import validation_curve\n",
    "from sklearn.metrics import classification_report, confusion_matrix\n",
    "from sklearn.model_selection import RandomizedSearchCV\n",
    "df = pd.read_csv(\"KS_train_final.csv\")"
   ]
  },
  {
   "cell_type": "code",
   "execution_count": 3,
   "metadata": {},
   "outputs": [],
   "source": [
    "X = df.drop('funded', axis=1)\n",
    "y = df['funded']"
   ]
  },
  {
   "cell_type": "code",
   "execution_count": 4,
   "metadata": {},
   "outputs": [],
   "source": [
    "X_train, X_test, y_train, y_test = train_test_split(X, y, test_size=0.25, random_state=42)"
   ]
  },
  {
   "cell_type": "code",
   "execution_count": 5,
   "metadata": {},
   "outputs": [
    {
     "name": "stderr",
     "output_type": "stream",
     "text": [
      "C:\\Users\\kplag\\Anaconda3\\lib\\site-packages\\sklearn\\ensemble\\forest.py:245: FutureWarning: The default value of n_estimators will change from 10 in version 0.20 to 100 in 0.22.\n",
      "  \"10 in version 0.20 to 100 in 0.22.\", FutureWarning)\n"
     ]
    },
    {
     "data": {
      "text/plain": [
       "RandomForestClassifier(bootstrap=True, class_weight=None, criterion='gini',\n",
       "                       max_depth=None, max_features='auto', max_leaf_nodes=None,\n",
       "                       min_impurity_decrease=0.0, min_impurity_split=None,\n",
       "                       min_samples_leaf=1, min_samples_split=2,\n",
       "                       min_weight_fraction_leaf=0.0, n_estimators=10,\n",
       "                       n_jobs=None, oob_score=False, random_state=42, verbose=0,\n",
       "                       warm_start=False)"
      ]
     },
     "execution_count": 5,
     "metadata": {},
     "output_type": "execute_result"
    }
   ],
   "source": [
    "rfc = RandomForestClassifier(random_state = 42)\n",
    "rfc.fit(X_train,y_train)"
   ]
  },
  {
   "cell_type": "code",
   "execution_count": 6,
   "metadata": {},
   "outputs": [],
   "source": [
    "rfc_predict = rfc.predict(X_test)"
   ]
  },
  {
   "cell_type": "code",
   "execution_count": 7,
   "metadata": {},
   "outputs": [],
   "source": [
    "rfc_cv_score = cross_val_score(rfc, X, y, cv=10, scoring='roc_auc')"
   ]
  },
  {
   "cell_type": "code",
   "execution_count": 8,
   "metadata": {},
   "outputs": [
    {
     "name": "stdout",
     "output_type": "stream",
     "text": [
      "=== Confusion Matrix ===\n",
      "[[ 8062  2251]\n",
      " [ 2613 10983]]\n",
      "\n",
      "\n",
      "=== Classification Report ===\n",
      "              precision    recall  f1-score   support\n",
      "\n",
      "         0.0       0.76      0.78      0.77     10313\n",
      "         1.0       0.83      0.81      0.82     13596\n",
      "\n",
      "    accuracy                           0.80     23909\n",
      "   macro avg       0.79      0.79      0.79     23909\n",
      "weighted avg       0.80      0.80      0.80     23909\n",
      "\n",
      "\n",
      "\n",
      "=== All AUC Scores ===\n",
      "[0.74860526 0.87342796 0.81166649 0.84023476 0.90039796 0.80581915\n",
      " 0.83302414 0.80988359 0.74572796 0.81040083]\n",
      "\n",
      "\n",
      "=== Mean AUC Score ===\n",
      "Mean AUC Score - Random Forest:  0.8179188106677676\n"
     ]
    }
   ],
   "source": [
    "print(\"=== Confusion Matrix ===\")\n",
    "print(confusion_matrix(y_test, rfc_predict))\n",
    "print('\\n')\n",
    "print(\"=== Classification Report ===\")\n",
    "print(classification_report(y_test, rfc_predict))\n",
    "print('\\n')\n",
    "print(\"=== All AUC Scores ===\")\n",
    "print(rfc_cv_score)\n",
    "print('\\n')\n",
    "print(\"=== Mean AUC Score ===\")\n",
    "print(\"Mean AUC Score - Random Forest: \", rfc_cv_score.mean())"
   ]
  },
  {
   "cell_type": "code",
   "execution_count": 9,
   "metadata": {},
   "outputs": [
    {
     "name": "stdout",
     "output_type": "stream",
     "text": [
      "=== Confusion Matrix ===\n",
      "[[ 7550  2763]\n",
      " [ 1948 11648]]\n",
      "\n",
      "\n",
      "=== Classification Report ===\n",
      "              precision    recall  f1-score   support\n",
      "\n",
      "         0.0       0.79      0.73      0.76     10313\n",
      "         1.0       0.81      0.86      0.83     13596\n",
      "\n",
      "    accuracy                           0.80     23909\n",
      "   macro avg       0.80      0.79      0.80     23909\n",
      "weighted avg       0.80      0.80      0.80     23909\n",
      "\n",
      "\n",
      "\n",
      "=== All AUC Scores ===\n",
      "[0.7781853  0.88490711 0.83166819 0.87871463 0.9431744  0.88397739\n",
      " 0.85292451 0.83801396 0.85582116 0.8519691 ]\n",
      "\n",
      "\n",
      "=== Mean AUC Score ===\n",
      "Mean AUC Score - Random Forest:  0.859935574600836\n"
     ]
    }
   ],
   "source": [
    "rfc = RandomForestClassifier(n_estimators=10, max_depth=10, max_features='sqrt', random_state = 42)\n",
    "rfc.fit(X_train,y_train)\n",
    "rfc_predict = rfc.predict(X_test)\n",
    "rfc_cv_score = cross_val_score(rfc, X, y, cv=10, scoring='roc_auc')\n",
    "print(\"=== Confusion Matrix ===\")\n",
    "print(confusion_matrix(y_test, rfc_predict))\n",
    "print('\\n')\n",
    "print(\"=== Classification Report ===\")\n",
    "print(classification_report(y_test, rfc_predict))\n",
    "print('\\n')\n",
    "print(\"=== All AUC Scores ===\")\n",
    "print(rfc_cv_score)\n",
    "print('\\n')\n",
    "print(\"=== Mean AUC Score ===\")\n",
    "print(\"Mean AUC Score - Random Forest: \", rfc_cv_score.mean())"
   ]
  },
  {
   "cell_type": "code",
   "execution_count": 10,
   "metadata": {},
   "outputs": [
    {
     "data": {
      "text/plain": [
       "0.80296122798946"
      ]
     },
     "execution_count": 10,
     "metadata": {},
     "output_type": "execute_result"
    }
   ],
   "source": [
    "metrics.accuracy_score(y_test, rfc_predict)"
   ]
  },
  {
   "cell_type": "code",
   "execution_count": 11,
   "metadata": {},
   "outputs": [
    {
     "data": {
      "text/plain": [
       "0.8114604391774137"
      ]
     },
     "execution_count": 11,
     "metadata": {},
     "output_type": "execute_result"
    }
   ],
   "source": [
    "metrics.accuracy_score(y_train, rfc.predict(X_train))"
   ]
  },
  {
   "cell_type": "code",
   "execution_count": 14,
   "metadata": {},
   "outputs": [],
   "source": [
    "tree = rfc.estimators_[5]\n",
    "export_graphviz(tree, out_file = 'tree.dot', feature_names = X.columns, rounded = True, precision = 1)\n",
    "(graph, ) = pydot.graph_from_dot_file('tree.dot')\n",
    "graph.write_png('tree.png')"
   ]
  },
  {
   "cell_type": "code",
   "execution_count": 17,
   "metadata": {},
   "outputs": [],
   "source": [
    "rf_small = RandomForestClassifier(n_estimators=10, max_depth = 3)\n",
    "rf_small.fit(X_train, y_train)\n",
    "tree_small = rf_small.estimators_[5]\n",
    "export_graphviz(tree_small, out_file = 'small_tree.dot',\n",
    "feature_names = X.columns, rounded = True, precision = 1)\n",
    "\n",
    "(graph, ) = pydot.graph_from_dot_file('small_tree.dot')\n",
    "\n",
    "graph.write_png('small_tree.png');"
   ]
  },
  {
   "cell_type": "code",
   "execution_count": 20,
   "metadata": {},
   "outputs": [
    {
     "name": "stdout",
     "output_type": "stream",
     "text": [
      "Variable: blurb_bayes          Importance: 0.59\n",
      "Variable: staff_pick           Importance: 0.08\n",
      "Variable: log_goal_usd         Importance: 0.08\n",
      "Variable: log_days_to_launch   Importance: 0.04\n",
      "Variable: is_2013              Importance: 0.03\n",
      "Variable: is_2012              Importance: 0.02\n",
      "Variable: is_2014              Importance: 0.02\n",
      "Variable: is_2015              Importance: 0.02\n",
      "Variable: log_days_to_dealine  Importance: 0.02\n",
      "Variable: is_cat_art           Importance: 0.01\n",
      "Variable: is_cat_technology    Importance: 0.01\n",
      "Variable: is_cat_food          Importance: 0.01\n",
      "Variable: is_2010              Importance: 0.01\n",
      "Variable: is_2011              Importance: 0.01\n",
      "Variable: is_2016              Importance: 0.01\n",
      "Variable: is_cat_music         Importance: 0.0\n",
      "Variable: is_cat_film          Importance: 0.0\n",
      "Variable: is_cat_publishing    Importance: 0.0\n",
      "Variable: is_cat_games         Importance: 0.0\n",
      "Variable: is_cat_fashion       Importance: 0.0\n",
      "Variable: is_cat_comics        Importance: 0.0\n",
      "Variable: is_cat_other         Importance: 0.0\n",
      "Variable: is_country_us        Importance: 0.0\n",
      "Variable: is_loc_ca            Importance: 0.0\n",
      "Variable: is_loc_ny            Importance: 0.0\n",
      "Variable: is_loc_uk            Importance: 0.0\n",
      "Variable: is_loc_tx            Importance: 0.0\n",
      "Variable: is_loc_cd            Importance: 0.0\n",
      "Variable: is_loc_fl            Importance: 0.0\n",
      "Variable: is_loc_il            Importance: 0.0\n",
      "Variable: is_loc_wa            Importance: 0.0\n",
      "Variable: is_loc_pa            Importance: 0.0\n",
      "Variable: is_loc_other         Importance: 0.0\n",
      "Variable: is_2009              Importance: 0.0\n",
      "Variable: is_2017              Importance: 0.0\n",
      "Variable: is_2018              Importance: 0.0\n",
      "Variable: sentiment_pos        Importance: 0.0\n",
      "Variable: sentiment_neu        Importance: 0.0\n",
      "Variable: sentiment_neg        Importance: 0.0\n"
     ]
    }
   ],
   "source": [
    "importances = list(rfc.feature_importances_)\n",
    "feature_importances = [(feature, round(importance, 2)) for feature, importance in zip(X.columns, importances)]\n",
    "feature_importances = sorted(feature_importances, key = lambda x: x[1], reverse = True)\n",
    "[print('Variable: {:20} Importance: {}'.format(*pair)) for pair in feature_importances];"
   ]
  },
  {
   "cell_type": "code",
   "execution_count": 25,
   "metadata": {},
   "outputs": [
    {
     "data": {
      "image/png": "[encoded data removed]",
      "text/plain": [
       "<Figure size 432x288 with 1 Axes>"
      ]
     },
     "metadata": {},
     "output_type": "display_data"
    }
   ],
   "source": [
    "plt.style.use('fivethirtyeight')\n",
    "x_values = list(range(len(importances)))\n",
    "plt.bar(x_values, importances, orientation = 'vertical')\n",
    "plt.xticks(x_values, X.columns, rotation='vertical')\n",
    "plt.ylabel('Importance'); plt.xlabel('Variable'); plt.title('Variable Importances');"
   ]
  }
 ],
 "metadata": {
  "kernelspec": {
   "display_name": "Python 3",
   "language": "python",
   "name": "python3"
  },
  "language_info": {
   "codemirror_mode": {
    "name": "ipython",
    "version": 3
   },
   "file_extension": ".py",
   "mimetype": "text/x-python",
   "name": "python",
   "nbconvert_exporter": "python",
   "pygments_lexer": "ipython3",
   "version": "3.7.3"
  }
 },
 "nbformat": 4,
 "nbformat_minor": 2
}
