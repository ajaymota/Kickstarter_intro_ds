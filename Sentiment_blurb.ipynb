{
 "cells": [
  {
   "cell_type": "code",
   "execution_count": 3,
   "metadata": {},
   "outputs": [],
   "source": [
    "import pandas as pd\n",
    "from vaderSentiment.vaderSentiment import SentimentIntensityAnalyzer"
   ]
  },
  {
   "cell_type": "code",
   "execution_count": 4,
   "metadata": {},
   "outputs": [],
   "source": [
    "analyser = SentimentIntensityAnalyzer()"
   ]
  },
  {
   "cell_type": "code",
   "execution_count": 22,
   "metadata": {},
   "outputs": [],
   "source": [
    "df = pd.read_csv(\"KS_train_data_clean_1.0.csv\")"
   ]
  },
  {
   "cell_type": "code",
   "execution_count": 23,
   "metadata": {},
   "outputs": [
    {
     "data": {
      "text/html": [
       "<div>\n",
       "<style scoped>\n",
       "    .dataframe tbody tr th:only-of-type {\n",
       "        vertical-align: middle;\n",
       "    }\n",
       "\n",
       "    .dataframe tbody tr th {\n",
       "        vertical-align: top;\n",
       "    }\n",
       "\n",
       "    .dataframe thead th {\n",
       "        text-align: right;\n",
       "    }\n",
       "</style>\n",
       "<table border=\"1\" class=\"dataframe\">\n",
       "  <thead>\n",
       "    <tr style=\"text-align: right;\">\n",
       "      <th></th>\n",
       "      <th>Unnamed: 0</th>\n",
       "      <th>blurb</th>\n",
       "      <th>category</th>\n",
       "      <th>country</th>\n",
       "      <th>currency</th>\n",
       "      <th>fx_rate</th>\n",
       "      <th>goal</th>\n",
       "      <th>staff_pick</th>\n",
       "      <th>location</th>\n",
       "      <th>funded</th>\n",
       "      <th>subcategory</th>\n",
       "      <th>days_to_launch</th>\n",
       "      <th>days_to_dealine</th>\n",
       "      <th>launched_year</th>\n",
       "    </tr>\n",
       "  </thead>\n",
       "  <tbody>\n",
       "    <tr>\n",
       "      <th>0</th>\n",
       "      <td>0</td>\n",
       "      <td>I will be an artist-in-residence at Elsewhere ...</td>\n",
       "      <td>art</td>\n",
       "      <td>US</td>\n",
       "      <td>USD</td>\n",
       "      <td>1.0</td>\n",
       "      <td>2800.0</td>\n",
       "      <td>False</td>\n",
       "      <td>Paonia, CO</td>\n",
       "      <td>True</td>\n",
       "      <td>mixed media</td>\n",
       "      <td>81</td>\n",
       "      <td>22</td>\n",
       "      <td>2012</td>\n",
       "    </tr>\n",
       "    <tr>\n",
       "      <th>1</th>\n",
       "      <td>1</td>\n",
       "      <td>1000 Artists is a public art-making installati...</td>\n",
       "      <td>art</td>\n",
       "      <td>US</td>\n",
       "      <td>USD</td>\n",
       "      <td>1.0</td>\n",
       "      <td>4500.0</td>\n",
       "      <td>False</td>\n",
       "      <td>Washington, DC</td>\n",
       "      <td>True</td>\n",
       "      <td>public art</td>\n",
       "      <td>24</td>\n",
       "      <td>40</td>\n",
       "      <td>2012</td>\n",
       "    </tr>\n",
       "    <tr>\n",
       "      <th>2</th>\n",
       "      <td>2</td>\n",
       "      <td>The Sequel to ‘My Favorite Machine”, \"MyPhoneH...</td>\n",
       "      <td>art</td>\n",
       "      <td>US</td>\n",
       "      <td>USD</td>\n",
       "      <td>1.0</td>\n",
       "      <td>5000.0</td>\n",
       "      <td>False</td>\n",
       "      <td>Frisco, TX</td>\n",
       "      <td>True</td>\n",
       "      <td>sculpture</td>\n",
       "      <td>7</td>\n",
       "      <td>60</td>\n",
       "      <td>2012</td>\n",
       "    </tr>\n",
       "    <tr>\n",
       "      <th>3</th>\n",
       "      <td>3</td>\n",
       "      <td>A film exploring the role and value of art edu...</td>\n",
       "      <td>art</td>\n",
       "      <td>GB</td>\n",
       "      <td>USD</td>\n",
       "      <td>1.0</td>\n",
       "      <td>6500.0</td>\n",
       "      <td>False</td>\n",
       "      <td>Glasgow, UK</td>\n",
       "      <td>True</td>\n",
       "      <td>art</td>\n",
       "      <td>8</td>\n",
       "      <td>21</td>\n",
       "      <td>2012</td>\n",
       "    </tr>\n",
       "    <tr>\n",
       "      <th>4</th>\n",
       "      <td>4</td>\n",
       "      <td>We need to build a kitchen for Habitable Space...</td>\n",
       "      <td>art</td>\n",
       "      <td>US</td>\n",
       "      <td>USD</td>\n",
       "      <td>1.0</td>\n",
       "      <td>15000.0</td>\n",
       "      <td>False</td>\n",
       "      <td>Kingsbury, TX</td>\n",
       "      <td>True</td>\n",
       "      <td>public art</td>\n",
       "      <td>52</td>\n",
       "      <td>30</td>\n",
       "      <td>2012</td>\n",
       "    </tr>\n",
       "  </tbody>\n",
       "</table>\n",
       "</div>"
      ],
      "text/plain": [
       "   Unnamed: 0                                              blurb category  \\\n",
       "0           0  I will be an artist-in-residence at Elsewhere ...      art   \n",
       "1           1  1000 Artists is a public art-making installati...      art   \n",
       "2           2  The Sequel to ‘My Favorite Machine”, \"MyPhoneH...      art   \n",
       "3           3  A film exploring the role and value of art edu...      art   \n",
       "4           4  We need to build a kitchen for Habitable Space...      art   \n",
       "\n",
       "  country currency  fx_rate     goal  staff_pick        location  funded  \\\n",
       "0      US      USD      1.0   2800.0       False      Paonia, CO    True   \n",
       "1      US      USD      1.0   4500.0       False  Washington, DC    True   \n",
       "2      US      USD      1.0   5000.0       False      Frisco, TX    True   \n",
       "3      GB      USD      1.0   6500.0       False     Glasgow, UK    True   \n",
       "4      US      USD      1.0  15000.0       False   Kingsbury, TX    True   \n",
       "\n",
       "   subcategory  days_to_launch  days_to_dealine  launched_year  \n",
       "0  mixed media              81               22           2012  \n",
       "1   public art              24               40           2012  \n",
       "2    sculpture               7               60           2012  \n",
       "3          art               8               21           2012  \n",
       "4   public art              52               30           2012  "
      ]
     },
     "execution_count": 23,
     "metadata": {},
     "output_type": "execute_result"
    }
   ],
   "source": [
    "df.head(5)"
   ]
  },
  {
   "cell_type": "code",
   "execution_count": 24,
   "metadata": {},
   "outputs": [],
   "source": [
    "# df['sentiment'] = analyser.polarity_scores(df['blurb'].str)['compound']\n",
    "\n",
    "df['blurb'].fillna(\" \", inplace=True)\n",
    "\n",
    "for index, value in df['blurb'].items():\n",
    "    s = analyser.polarity_scores(value)\n",
    "    df.at[index, 'sentiment_pos'] = s['pos']\n",
    "    df.at[index, 'sentiment_neu'] = s['neu']\n",
    "    df.at[index, 'sentiment_neg'] = s['neg']"
   ]
  },
  {
   "cell_type": "code",
   "execution_count": 25,
   "metadata": {},
   "outputs": [
    {
     "data": {
      "text/html": [
       "<div>\n",
       "<style scoped>\n",
       "    .dataframe tbody tr th:only-of-type {\n",
       "        vertical-align: middle;\n",
       "    }\n",
       "\n",
       "    .dataframe tbody tr th {\n",
       "        vertical-align: top;\n",
       "    }\n",
       "\n",
       "    .dataframe thead th {\n",
       "        text-align: right;\n",
       "    }\n",
       "</style>\n",
       "<table border=\"1\" class=\"dataframe\">\n",
       "  <thead>\n",
       "    <tr style=\"text-align: right;\">\n",
       "      <th></th>\n",
       "      <th>Unnamed: 0</th>\n",
       "      <th>blurb</th>\n",
       "      <th>category</th>\n",
       "      <th>country</th>\n",
       "      <th>currency</th>\n",
       "      <th>fx_rate</th>\n",
       "      <th>goal</th>\n",
       "      <th>staff_pick</th>\n",
       "      <th>location</th>\n",
       "      <th>funded</th>\n",
       "      <th>subcategory</th>\n",
       "      <th>days_to_launch</th>\n",
       "      <th>days_to_dealine</th>\n",
       "      <th>launched_year</th>\n",
       "      <th>sentiment_pos</th>\n",
       "      <th>sentiment_neu</th>\n",
       "      <th>sentiment_neg</th>\n",
       "    </tr>\n",
       "  </thead>\n",
       "  <tbody>\n",
       "    <tr>\n",
       "      <th>0</th>\n",
       "      <td>0</td>\n",
       "      <td>I will be an artist-in-residence at Elsewhere ...</td>\n",
       "      <td>art</td>\n",
       "      <td>US</td>\n",
       "      <td>USD</td>\n",
       "      <td>1.0</td>\n",
       "      <td>2800.0</td>\n",
       "      <td>False</td>\n",
       "      <td>Paonia, CO</td>\n",
       "      <td>True</td>\n",
       "      <td>mixed media</td>\n",
       "      <td>81</td>\n",
       "      <td>22</td>\n",
       "      <td>2012</td>\n",
       "      <td>0.000</td>\n",
       "      <td>1.000</td>\n",
       "      <td>0.0</td>\n",
       "    </tr>\n",
       "    <tr>\n",
       "      <th>1</th>\n",
       "      <td>1</td>\n",
       "      <td>1000 Artists is a public art-making installati...</td>\n",
       "      <td>art</td>\n",
       "      <td>US</td>\n",
       "      <td>USD</td>\n",
       "      <td>1.0</td>\n",
       "      <td>4500.0</td>\n",
       "      <td>False</td>\n",
       "      <td>Washington, DC</td>\n",
       "      <td>True</td>\n",
       "      <td>public art</td>\n",
       "      <td>24</td>\n",
       "      <td>40</td>\n",
       "      <td>2012</td>\n",
       "      <td>0.000</td>\n",
       "      <td>1.000</td>\n",
       "      <td>0.0</td>\n",
       "    </tr>\n",
       "    <tr>\n",
       "      <th>2</th>\n",
       "      <td>2</td>\n",
       "      <td>The Sequel to ‘My Favorite Machine”, \"MyPhoneH...</td>\n",
       "      <td>art</td>\n",
       "      <td>US</td>\n",
       "      <td>USD</td>\n",
       "      <td>1.0</td>\n",
       "      <td>5000.0</td>\n",
       "      <td>False</td>\n",
       "      <td>Frisco, TX</td>\n",
       "      <td>True</td>\n",
       "      <td>sculpture</td>\n",
       "      <td>7</td>\n",
       "      <td>60</td>\n",
       "      <td>2012</td>\n",
       "      <td>0.358</td>\n",
       "      <td>0.642</td>\n",
       "      <td>0.0</td>\n",
       "    </tr>\n",
       "    <tr>\n",
       "      <th>3</th>\n",
       "      <td>3</td>\n",
       "      <td>A film exploring the role and value of art edu...</td>\n",
       "      <td>art</td>\n",
       "      <td>GB</td>\n",
       "      <td>USD</td>\n",
       "      <td>1.0</td>\n",
       "      <td>6500.0</td>\n",
       "      <td>False</td>\n",
       "      <td>Glasgow, UK</td>\n",
       "      <td>True</td>\n",
       "      <td>art</td>\n",
       "      <td>8</td>\n",
       "      <td>21</td>\n",
       "      <td>2012</td>\n",
       "      <td>0.107</td>\n",
       "      <td>0.893</td>\n",
       "      <td>0.0</td>\n",
       "    </tr>\n",
       "    <tr>\n",
       "      <th>4</th>\n",
       "      <td>4</td>\n",
       "      <td>We need to build a kitchen for Habitable Space...</td>\n",
       "      <td>art</td>\n",
       "      <td>US</td>\n",
       "      <td>USD</td>\n",
       "      <td>1.0</td>\n",
       "      <td>15000.0</td>\n",
       "      <td>False</td>\n",
       "      <td>Kingsbury, TX</td>\n",
       "      <td>True</td>\n",
       "      <td>public art</td>\n",
       "      <td>52</td>\n",
       "      <td>30</td>\n",
       "      <td>2012</td>\n",
       "      <td>0.000</td>\n",
       "      <td>1.000</td>\n",
       "      <td>0.0</td>\n",
       "    </tr>\n",
       "    <tr>\n",
       "      <th>5</th>\n",
       "      <td>5</td>\n",
       "      <td>Source Material is 2 person exhibition of the ...</td>\n",
       "      <td>art</td>\n",
       "      <td>US</td>\n",
       "      <td>USD</td>\n",
       "      <td>1.0</td>\n",
       "      <td>600.0</td>\n",
       "      <td>False</td>\n",
       "      <td>Houston, TX</td>\n",
       "      <td>True</td>\n",
       "      <td>painting</td>\n",
       "      <td>21</td>\n",
       "      <td>36</td>\n",
       "      <td>2012</td>\n",
       "      <td>0.000</td>\n",
       "      <td>1.000</td>\n",
       "      <td>0.0</td>\n",
       "    </tr>\n",
       "    <tr>\n",
       "      <th>6</th>\n",
       "      <td>6</td>\n",
       "      <td>An anthropological field study of the Dwarven ...</td>\n",
       "      <td>art</td>\n",
       "      <td>US</td>\n",
       "      <td>USD</td>\n",
       "      <td>1.0</td>\n",
       "      <td>2000.0</td>\n",
       "      <td>False</td>\n",
       "      <td>Chicago, IL</td>\n",
       "      <td>True</td>\n",
       "      <td>art</td>\n",
       "      <td>3</td>\n",
       "      <td>12</td>\n",
       "      <td>2012</td>\n",
       "      <td>0.000</td>\n",
       "      <td>1.000</td>\n",
       "      <td>0.0</td>\n",
       "    </tr>\n",
       "    <tr>\n",
       "      <th>7</th>\n",
       "      <td>7</td>\n",
       "      <td>Portrait artist seeks funds to kickstart an ex...</td>\n",
       "      <td>art</td>\n",
       "      <td>US</td>\n",
       "      <td>USD</td>\n",
       "      <td>1.0</td>\n",
       "      <td>10000.0</td>\n",
       "      <td>True</td>\n",
       "      <td>New Britain, CT</td>\n",
       "      <td>True</td>\n",
       "      <td>painting</td>\n",
       "      <td>18</td>\n",
       "      <td>33</td>\n",
       "      <td>2012</td>\n",
       "      <td>0.158</td>\n",
       "      <td>0.842</td>\n",
       "      <td>0.0</td>\n",
       "    </tr>\n",
       "    <tr>\n",
       "      <th>8</th>\n",
       "      <td>8</td>\n",
       "      <td>This is a month long Residency at the The Verm...</td>\n",
       "      <td>art</td>\n",
       "      <td>US</td>\n",
       "      <td>USD</td>\n",
       "      <td>1.0</td>\n",
       "      <td>2800.0</td>\n",
       "      <td>True</td>\n",
       "      <td>Johnson, VT</td>\n",
       "      <td>True</td>\n",
       "      <td>painting</td>\n",
       "      <td>11</td>\n",
       "      <td>45</td>\n",
       "      <td>2012</td>\n",
       "      <td>0.095</td>\n",
       "      <td>0.905</td>\n",
       "      <td>0.0</td>\n",
       "    </tr>\n",
       "    <tr>\n",
       "      <th>9</th>\n",
       "      <td>9</td>\n",
       "      <td>Art, Music, and Theater live on the Waterfront...</td>\n",
       "      <td>art</td>\n",
       "      <td>US</td>\n",
       "      <td>USD</td>\n",
       "      <td>1.0</td>\n",
       "      <td>5000.0</td>\n",
       "      <td>False</td>\n",
       "      <td>Seattle, WA</td>\n",
       "      <td>True</td>\n",
       "      <td>public art</td>\n",
       "      <td>22</td>\n",
       "      <td>30</td>\n",
       "      <td>2012</td>\n",
       "      <td>0.292</td>\n",
       "      <td>0.708</td>\n",
       "      <td>0.0</td>\n",
       "    </tr>\n",
       "  </tbody>\n",
       "</table>\n",
       "</div>"
      ],
      "text/plain": [
       "   Unnamed: 0                                              blurb category  \\\n",
       "0           0  I will be an artist-in-residence at Elsewhere ...      art   \n",
       "1           1  1000 Artists is a public art-making installati...      art   \n",
       "2           2  The Sequel to ‘My Favorite Machine”, \"MyPhoneH...      art   \n",
       "3           3  A film exploring the role and value of art edu...      art   \n",
       "4           4  We need to build a kitchen for Habitable Space...      art   \n",
       "5           5  Source Material is 2 person exhibition of the ...      art   \n",
       "6           6  An anthropological field study of the Dwarven ...      art   \n",
       "7           7  Portrait artist seeks funds to kickstart an ex...      art   \n",
       "8           8  This is a month long Residency at the The Verm...      art   \n",
       "9           9  Art, Music, and Theater live on the Waterfront...      art   \n",
       "\n",
       "  country currency  fx_rate     goal  staff_pick         location  funded  \\\n",
       "0      US      USD      1.0   2800.0       False       Paonia, CO    True   \n",
       "1      US      USD      1.0   4500.0       False   Washington, DC    True   \n",
       "2      US      USD      1.0   5000.0       False       Frisco, TX    True   \n",
       "3      GB      USD      1.0   6500.0       False      Glasgow, UK    True   \n",
       "4      US      USD      1.0  15000.0       False    Kingsbury, TX    True   \n",
       "5      US      USD      1.0    600.0       False      Houston, TX    True   \n",
       "6      US      USD      1.0   2000.0       False      Chicago, IL    True   \n",
       "7      US      USD      1.0  10000.0        True  New Britain, CT    True   \n",
       "8      US      USD      1.0   2800.0        True      Johnson, VT    True   \n",
       "9      US      USD      1.0   5000.0       False      Seattle, WA    True   \n",
       "\n",
       "   subcategory  days_to_launch  days_to_dealine  launched_year  sentiment_pos  \\\n",
       "0  mixed media              81               22           2012          0.000   \n",
       "1   public art              24               40           2012          0.000   \n",
       "2    sculpture               7               60           2012          0.358   \n",
       "3          art               8               21           2012          0.107   \n",
       "4   public art              52               30           2012          0.000   \n",
       "5     painting              21               36           2012          0.000   \n",
       "6          art               3               12           2012          0.000   \n",
       "7     painting              18               33           2012          0.158   \n",
       "8     painting              11               45           2012          0.095   \n",
       "9   public art              22               30           2012          0.292   \n",
       "\n",
       "   sentiment_neu  sentiment_neg  \n",
       "0          1.000            0.0  \n",
       "1          1.000            0.0  \n",
       "2          0.642            0.0  \n",
       "3          0.893            0.0  \n",
       "4          1.000            0.0  \n",
       "5          1.000            0.0  \n",
       "6          1.000            0.0  \n",
       "7          0.842            0.0  \n",
       "8          0.905            0.0  \n",
       "9          0.708            0.0  "
      ]
     },
     "execution_count": 25,
     "metadata": {},
     "output_type": "execute_result"
    }
   ],
   "source": [
    "df.head(10)"
   ]
  },
  {
   "cell_type": "code",
   "execution_count": 26,
   "metadata": {},
   "outputs": [
    {
     "name": "stdout",
     "output_type": "stream",
     "text": [
      "-0.03579106823338948\n"
     ]
    }
   ],
   "source": [
    "correlations = df['funded'].corr(df['sentiment_pos'])\n",
    "print(correlations)"
   ]
  },
  {
   "cell_type": "code",
   "execution_count": 27,
   "metadata": {},
   "outputs": [
    {
     "name": "stdout",
     "output_type": "stream",
     "text": [
      "0.015698892272167378\n"
     ]
    }
   ],
   "source": [
    "correlations = df['funded'].corr(df['sentiment_neu'])\n",
    "print(correlations)"
   ]
  },
  {
   "cell_type": "code",
   "execution_count": 28,
   "metadata": {},
   "outputs": [
    {
     "name": "stdout",
     "output_type": "stream",
     "text": [
      "0.03344830688190493\n"
     ]
    }
   ],
   "source": [
    "correlations = df['funded'].corr(df['sentiment_neg'])\n",
    "print(correlations)"
   ]
  },
  {
   "cell_type": "code",
   "execution_count": 29,
   "metadata": {},
   "outputs": [
    {
     "data": {
      "text/plain": [
       "1.0"
      ]
     },
     "execution_count": 29,
     "metadata": {},
     "output_type": "execute_result"
    }
   ],
   "source": [
    "df['sentiment_pos'].max()"
   ]
  },
  {
   "cell_type": "code",
   "execution_count": 30,
   "metadata": {},
   "outputs": [
    {
     "data": {
      "text/plain": [
       "0.0"
      ]
     },
     "execution_count": 30,
     "metadata": {},
     "output_type": "execute_result"
    }
   ],
   "source": [
    "df['sentiment_pos'].min()"
   ]
  },
  {
   "cell_type": "code",
   "execution_count": 31,
   "metadata": {},
   "outputs": [
    {
     "data": {
      "text/plain": [
       "0.0"
      ]
     },
     "execution_count": 31,
     "metadata": {},
     "output_type": "execute_result"
    }
   ],
   "source": [
    "df['sentiment_neg'].min()"
   ]
  },
  {
   "cell_type": "code",
   "execution_count": 32,
   "metadata": {},
   "outputs": [
    {
     "data": {
      "text/plain": [
       "1.0"
      ]
     },
     "execution_count": 32,
     "metadata": {},
     "output_type": "execute_result"
    }
   ],
   "source": [
    "df['sentiment_neg'].max()"
   ]
  },
  {
   "cell_type": "code",
   "execution_count": null,
   "metadata": {},
   "outputs": [],
   "source": []
  }
 ],
 "metadata": {
  "kernelspec": {
   "display_name": "Python 3",
   "language": "python",
   "name": "python3"
  },
  "language_info": {
   "codemirror_mode": {
    "name": "ipython",
    "version": 3
   },
   "file_extension": ".py",
   "mimetype": "text/x-python",
   "name": "python",
   "nbconvert_exporter": "python",
   "pygments_lexer": "ipython3",
   "version": "3.7.3"
  }
 },
 "nbformat": 4,
 "nbformat_minor": 2
}
